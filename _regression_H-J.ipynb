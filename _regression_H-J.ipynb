{
 "cells": [
  {
   "cell_type": "code",
   "execution_count": 1,
   "id": "016c303c-74a1-4188-81ee-31d3dbc07c7b",
   "metadata": {},
   "outputs": [],
   "source": [
    "import pandas as pd\n",
    "import numpy as np\n",
    "import statsmodels.api as sm\n",
    "from statsmodels.tsa.stattools import adfuller\n",
    "from tqdm import tqdm"
   ]
  },
  {
   "cell_type": "code",
   "execution_count": 13,
   "id": "578b310e-6152-4f43-a389-cba3cfb2d1f8",
   "metadata": {},
   "outputs": [],
   "source": [
    "# 예시 데이터\n",
    "df = pd.read_csv('log_index.csv', parse_dates=['Date'])\n",
    "y = df['Banks'].values  # 예: 종속변수\n",
    "x = df['Insurance'].values  # 예: 설명변수"
   ]
  },
  {
   "cell_type": "code",
   "execution_count": 14,
   "id": "567e2f7f-3bb6-4fca-a51b-d21a2044f5d7",
   "metadata": {},
   "outputs": [],
   "source": [
    "# 길이 설정\n",
    "n = min(len(x), len(y))\n",
    "x = x[:n]\n",
    "y = y[:n]"
   ]
  },
  {
   "cell_type": "code",
   "execution_count": 15,
   "id": "d5c761c5-e630-4c10-8061-77a16df3a902",
   "metadata": {},
   "outputs": [],
   "source": [
    "# 구조 변화 탐색 범위 설정\n",
    "min_idx = int(n * 0.15)\n",
    "max_idx = int(n * 0.85)\n",
    "\n",
    "best_adf_stat = np.inf\n",
    "best_t1 = None\n",
    "best_t2 = None\n",
    "best_resid = None"
   ]
  },
  {
   "cell_type": "code",
   "execution_count": 16,
   "id": "de8a0ac8-e8ab-4213-bab9-4a9d302a6d67",
   "metadata": {},
   "outputs": [
    {
     "name": "stderr",
     "output_type": "stream",
     "text": [
      "100%|██████████████████████████████████████████████████████████████████████████████████| 42/42 [00:08<00:00,  5.06it/s]"
     ]
    },
    {
     "name": "stdout",
     "output_type": "stream",
     "text": [
      "===== Hatemi-J Double Break 결과 =====\n",
      "최적 T1 인덱스: 1602 → 날짜: 1602\n",
      "최적 T2 인덱스: 2602 → 날짜: 2602\n",
      "ADF 통계량: -7.4781\n"
     ]
    },
    {
     "name": "stderr",
     "output_type": "stream",
     "text": [
      "\n"
     ]
    }
   ],
   "source": [
    "# 스캔 속도 향상을 위해 100 간격 샘플링\n",
    "step = 100\n",
    "\n",
    "for t1 in tqdm(range(min_idx, max_idx - step, step)):\n",
    "    for t2 in range(t1 + step, max_idx, step):\n",
    "        D1 = np.zeros(n)\n",
    "        D2 = np.zeros(n)\n",
    "        D1[t1:] = 1\n",
    "        D2[t2:] = 1\n",
    "        X_mat = np.column_stack([\n",
    "            np.ones(n),\n",
    "            D1,\n",
    "            D2,\n",
    "            x,\n",
    "            D1 * x,\n",
    "            D2 * x\n",
    "        ])\n",
    "        model = sm.OLS(y, X_mat).fit()\n",
    "        resid = model.resid\n",
    "        adf_result = adfuller(resid, maxlag=1, autolag=None)\n",
    "        adf_stat = adf_result[0]\n",
    "        pval = adf_result[1]\n",
    "        crit_vals = adf_result[4]\n",
    "        if adf_stat < best_adf_stat:\n",
    "            best_adf_stat = adf_stat\n",
    "            best_t1 = t1\n",
    "            best_t2 = t2\n",
    "            best_resid = resid\n",
    "\n",
    "# 결과 요약\n",
    "print(\"===== Hatemi-J Double Break 결과 =====\")\n",
    "print(f\"최적 T1 인덱스: {best_t1} → 날짜: {df.index[best_t1]}\")\n",
    "print(f\"최적 T2 인덱스: {best_t2} → 날짜: {df.index[best_t2]}\")\n",
    "print(f\"ADF 통계량: {best_adf_stat:.4f}\")"
   ]
  },
  {
   "cell_type": "code",
   "execution_count": 17,
   "id": "0cf106ed-1a46-4020-a899-504ea21904da",
   "metadata": {},
   "outputs": [],
   "source": [
    "# 구조 변화 시점 인덱스 (예시로 Hatemi-J 결과 기반)\n",
    "T1 = 1602\n",
    "T2 = 2602"
   ]
  },
  {
   "cell_type": "code",
   "execution_count": 18,
   "id": "3cf64216-4375-4c6a-81b6-df7fac62e14f",
   "metadata": {},
   "outputs": [],
   "source": [
    "# 더미 변수 생성\n",
    "D1 = np.zeros(len(y))\n",
    "D2 = np.zeros(len(y))\n",
    "D1[T1:] = 1\n",
    "D2[T2:] = 1\n"
   ]
  },
  {
   "cell_type": "code",
   "execution_count": 19,
   "id": "864018c9-4b8d-4f46-88f7-1d0d75eda69e",
   "metadata": {},
   "outputs": [],
   "source": [
    "# 상호작용 항\n",
    "X = np.column_stack([\n",
    "    np.ones(len(y)),      # α0\n",
    "    D1,                   # α1\n",
    "    D2,                   # α2\n",
    "    x,                    # β0 * x\n",
    "    D1 * x,               # β1 * x\n",
    "    D2 * x                # β2 * x\n",
    "])\n"
   ]
  },
  {
   "cell_type": "code",
   "execution_count": 20,
   "id": "dc0615ed-948d-443b-88c4-ebd340aa569e",
   "metadata": {},
   "outputs": [
    {
     "name": "stdout",
     "output_type": "stream",
     "text": [
      "                            OLS Regression Results                            \n",
      "==============================================================================\n",
      "Dep. Variable:                      y   R-squared:                       0.883\n",
      "Model:                            OLS   Adj. R-squared:                  0.883\n",
      "Method:                 Least Squares   F-statistic:                     9054.\n",
      "Date:                Thu, 03 Apr 2025   Prob (F-statistic):               0.00\n",
      "Time:                        11:44:04   Log-Likelihood:                 4915.6\n",
      "No. Observations:                6017   AIC:                            -9819.\n",
      "Df Residuals:                    6011   BIC:                            -9779.\n",
      "Df Model:                           5                                         \n",
      "Covariance Type:            nonrobust                                         \n",
      "==============================================================================\n",
      "                 coef    std err          t      P>|t|      [0.025      0.975]\n",
      "------------------------------------------------------------------------------\n",
      "const          1.9437      0.039     50.289      0.000       1.868       2.019\n",
      "x1            -5.6044      0.220    -25.477      0.000      -6.036      -5.173\n",
      "x2             7.2166      0.235     30.754      0.000       6.757       7.677\n",
      "x3             0.8194      0.005    159.085      0.000       0.809       0.829\n",
      "x4             0.5965      0.026     23.229      0.000       0.546       0.647\n",
      "x5            -0.8599      0.027    -31.606      0.000      -0.913      -0.807\n",
      "==============================================================================\n",
      "Omnibus:                      163.383   Durbin-Watson:                   0.031\n",
      "Prob(Omnibus):                  0.000   Jarque-Bera (JB):              329.365\n",
      "Skew:                          -0.176   Prob(JB):                     3.02e-72\n",
      "Kurtosis:                       4.091   Cond. No.                     2.86e+03\n",
      "==============================================================================\n",
      "\n",
      "Notes:\n",
      "[1] Standard Errors assume that the covariance matrix of the errors is correctly specified.\n",
      "[2] The condition number is large, 2.86e+03. This might indicate that there are\n",
      "strong multicollinearity or other numerical problems.\n",
      "ADF Statistic: -5.277730429639837\n",
      "p-value: 6.088246119565217e-06\n"
     ]
    }
   ],
   "source": [
    "# 회귀\n",
    "model = sm.OLS(y, X).fit()\n",
    "print(model.summary())\n",
    "\n",
    "# 잔차 추출 → 단위근 검정으로 공적분 여부 판단\n",
    "resid = model.resid\n",
    "\n",
    "# ADF 단위근 검정\n",
    "from statsmodels.tsa.stattools import adfuller\n",
    "adf_result = adfuller(resid)\n",
    "print(f'ADF Statistic: {adf_result[0]}')\n",
    "print(f'p-value: {adf_result[1]}')"
   ]
  },
  {
   "cell_type": "code",
   "execution_count": 21,
   "id": "610ee90f-3818-452f-96bc-8cbd56e5fab5",
   "metadata": {},
   "outputs": [
    {
     "data": {
      "text/plain": [
       "'아래는 bank securities'"
      ]
     },
     "execution_count": 21,
     "metadata": {},
     "output_type": "execute_result"
    }
   ],
   "source": [
    "\"\"\"아래는 bank securities\"\"\""
   ]
  },
  {
   "cell_type": "code",
   "execution_count": 22,
   "id": "e8879566-313e-44b2-9c11-268f2a3fa697",
   "metadata": {},
   "outputs": [],
   "source": [
    "# 예시 데이터\n",
    "df = pd.read_csv('log_index.csv', parse_dates=['Date'])\n",
    "y = df['Banks'].values  # 예: 종속변수\n",
    "x = df['Securities'].values  # 예: 설명변수"
   ]
  },
  {
   "cell_type": "code",
   "execution_count": 23,
   "id": "9f57019c-a91c-4c2e-b74e-1047a842493c",
   "metadata": {},
   "outputs": [],
   "source": [
    "# 길이 설정\n",
    "n = min(len(x), len(y))\n",
    "x = x[:n]\n",
    "y = y[:n]"
   ]
  },
  {
   "cell_type": "code",
   "execution_count": 24,
   "id": "d06a62df-714e-410e-bbad-bc12c70f3d9b",
   "metadata": {},
   "outputs": [],
   "source": [
    "# 구조 변화 탐색 범위 설정\n",
    "min_idx = int(n * 0.15)\n",
    "max_idx = int(n * 0.85)\n",
    "\n",
    "best_adf_stat = np.inf\n",
    "best_t1 = None\n",
    "best_t2 = None\n",
    "best_resid = None"
   ]
  },
  {
   "cell_type": "code",
   "execution_count": 25,
   "id": "9fac51ae-c3c6-442f-a8c2-26eb2b7c55f6",
   "metadata": {},
   "outputs": [
    {
     "name": "stderr",
     "output_type": "stream",
     "text": [
      "100%|██████████████████████████████████████████████████████████████████████████████████| 42/42 [00:09<00:00,  4.46it/s]"
     ]
    },
    {
     "name": "stdout",
     "output_type": "stream",
     "text": [
      "===== Hatemi-J Double Break 결과 =====\n",
      "최적 T1 인덱스: 1002 → 날짜: 1002\n",
      "최적 T2 인덱스: 1602 → 날짜: 1602\n",
      "ADF 통계량: -4.6833\n"
     ]
    },
    {
     "name": "stderr",
     "output_type": "stream",
     "text": [
      "\n"
     ]
    }
   ],
   "source": [
    "# 스캔 속도 향상을 위해 100 간격 샘플링\n",
    "step = 100\n",
    "\n",
    "for t1 in tqdm(range(min_idx, max_idx - step, step)):\n",
    "    for t2 in range(t1 + step, max_idx, step):\n",
    "        D1 = np.zeros(n)\n",
    "        D2 = np.zeros(n)\n",
    "        D1[t1:] = 1\n",
    "        D2[t2:] = 1\n",
    "        X_mat = np.column_stack([\n",
    "            np.ones(n),\n",
    "            D1,\n",
    "            D2,\n",
    "            x,\n",
    "            D1 * x,\n",
    "            D2 * x\n",
    "        ])\n",
    "        model = sm.OLS(y, X_mat).fit()\n",
    "        resid = model.resid\n",
    "        adf_result = adfuller(resid, maxlag=1, autolag=None)\n",
    "        adf_stat = adf_result[0]\n",
    "        pval = adf_result[1]\n",
    "        crit_vals = adf_result[4]\n",
    "        if adf_stat < best_adf_stat:\n",
    "            best_adf_stat = adf_stat\n",
    "            best_t1 = t1\n",
    "            best_t2 = t2\n",
    "            best_resid = resid\n",
    "\n",
    "# 결과 요약\n",
    "print(\"===== Hatemi-J Double Break 결과 =====\")\n",
    "print(f\"최적 T1 인덱스: {best_t1} → 날짜: {df.index[best_t1]}\")\n",
    "print(f\"최적 T2 인덱스: {best_t2} → 날짜: {df.index[best_t2]}\")\n",
    "print(f\"ADF 통계량: {best_adf_stat:.4f}\")"
   ]
  },
  {
   "cell_type": "code",
   "execution_count": 26,
   "id": "5f74eaeb-6529-414e-94e2-3b6f4bc548e1",
   "metadata": {},
   "outputs": [],
   "source": [
    "# 구조 변화 시점 인덱스 (예시로 Hatemi-J 결과 기반)\n",
    "T1 = 1002\n",
    "T2 = 1602"
   ]
  },
  {
   "cell_type": "code",
   "execution_count": 27,
   "id": "ed208452-e2fb-471e-b1f8-e45212af0ef6",
   "metadata": {},
   "outputs": [],
   "source": [
    "# 더미 변수 생성\n",
    "D1 = np.zeros(len(y))\n",
    "D2 = np.zeros(len(y))\n",
    "D1[T1:] = 1\n",
    "D2[T2:] = 1\n"
   ]
  },
  {
   "cell_type": "code",
   "execution_count": 28,
   "id": "9f2ce8a4-d10c-432a-b67c-3cb02ebc4dea",
   "metadata": {},
   "outputs": [],
   "source": [
    "# 상호작용 항\n",
    "X = np.column_stack([\n",
    "    np.ones(len(y)),      # α0\n",
    "    D1,                   # α1\n",
    "    D2,                   # α2\n",
    "    x,                    # β0 * x\n",
    "    D1 * x,               # β1 * x\n",
    "    D2 * x                # β2 * x\n",
    "])"
   ]
  },
  {
   "cell_type": "code",
   "execution_count": 31,
   "id": "3552a13c-e4d0-4d28-ad65-04795d3650f3",
   "metadata": {},
   "outputs": [
    {
     "name": "stdout",
     "output_type": "stream",
     "text": [
      "                            OLS Regression Results                            \n",
      "==============================================================================\n",
      "Dep. Variable:                      y   R-squared:                       0.773\n",
      "Model:                            OLS   Adj. R-squared:                  0.773\n",
      "Method:                 Least Squares   F-statistic:                     4638.\n",
      "Date:                Thu, 03 Apr 2025   Prob (F-statistic):               0.00\n",
      "Time:                        11:48:47   Log-Likelihood:                 2929.9\n",
      "No. Observations:                6017   AIC:                            -5848.\n",
      "Df Residuals:                    6011   BIC:                            -5808.\n",
      "Df Model:                           5                                         \n",
      "Covariance Type:                  HC0                                         \n",
      "==============================================================================\n",
      "                 coef    std err          t      P>|t|      [0.025      0.975]\n",
      "------------------------------------------------------------------------------\n",
      "const          7.0777      0.171     41.481      0.000       6.743       7.412\n",
      "x1            -3.5047      0.177    -19.846      0.000      -3.851      -3.159\n",
      "x2             1.4105      0.071     19.926      0.000       1.272       1.549\n",
      "x3             0.1147      0.027      4.207      0.000       0.061       0.168\n",
      "x4             0.6106      0.028     21.720      0.000       0.556       0.666\n",
      "x5            -0.2289      0.010    -22.179      0.000      -0.249      -0.209\n",
      "==============================================================================\n",
      "Omnibus:                      524.443   Durbin-Watson:                   0.012\n",
      "Prob(Omnibus):                  0.000   Jarque-Bera (JB):              707.806\n",
      "Skew:                          -0.729   Prob(JB):                    2.00e-154\n",
      "Kurtosis:                       3.834   Cond. No.                     1.25e+03\n",
      "==============================================================================\n",
      "\n",
      "Notes:\n",
      "[1] Standard Errors are heteroscedasticity robust (HC0)\n",
      "[2] The condition number is large, 1.25e+03. This might indicate that there are\n",
      "strong multicollinearity or other numerical problems.\n",
      "ADF Statistic: -4.0654230138587595\n",
      "p-value: 0.0011041362972004512\n"
     ]
    }
   ],
   "source": [
    "# OLS 적합\n",
    "ols_model = sm.OLS(y, X).fit()\n",
    "\n",
    "# Robust covariance 적용 (HC0: 기본 White estimator)\n",
    "robust_model = ols_model.get_robustcov_results(cov_type='HC0')\n",
    "print(robust_model.summary())\n",
    "\n",
    "# 잔차 추출 및 ADF 검정\n",
    "resid = ols_model.resid  # ※ ADF는 원래 잔차 기준으로 수행\n",
    "\n",
    "# ADF 단위근 검정\n",
    "from statsmodels.tsa.stattools import adfuller\n",
    "adf_result = adfuller(resid)\n",
    "print(f'ADF Statistic: {adf_result[0]}')\n",
    "print(f'p-value: {adf_result[1]}')"
   ]
  },
  {
   "cell_type": "code",
   "execution_count": 32,
   "id": "49daa31e-d1bc-48fe-9a9d-46843f038d14",
   "metadata": {},
   "outputs": [
    {
     "data": {
      "text/plain": [
       "'아래는 Nonlinear Threshold Cointegration Model(Hansen&Seo)'"
      ]
     },
     "execution_count": 32,
     "metadata": {},
     "output_type": "execute_result"
    }
   ],
   "source": [
    "\"\"\"아래는 Nonlinear Threshold Cointegration Model(Hansen&Seo)\"\"\""
   ]
  },
  {
   "cell_type": "code",
   "execution_count": 33,
   "id": "ffa110de-5c35-4d25-abca-4b2898b048e3",
   "metadata": {},
   "outputs": [],
   "source": [
    "# 재실행: 파일 다시 로드 및 TVECM 기반 threshold cointegration 분석\n",
    "import pandas as pd\n",
    "import numpy as np\n",
    "import statsmodels.api as sm\n",
    "from statsmodels.tsa.vector_ar.vecm import coint_johansen\n",
    "from statsmodels.regression.linear_model import OLS"
   ]
  },
  {
   "cell_type": "code",
   "execution_count": 35,
   "id": "379a3279-8b6b-4a98-8338-a160b496ed2d",
   "metadata": {},
   "outputs": [],
   "source": [
    "# 데이터 불러오기 (예: banks = y, insurance = x)\n",
    "df = pd.read_csv(\"log_index.csv\", parse_dates=['Date'], index_col='Date')"
   ]
  },
  {
   "cell_type": "code",
   "execution_count": 37,
   "id": "16e480da-ca2d-40bd-b761-320f899e2269",
   "metadata": {},
   "outputs": [],
   "source": [
    "# 이후 TVECM 모형 재구현\n",
    "from statsmodels.tsa.vector_ar.vecm import coint_johansen\n",
    "from statsmodels.regression.linear_model import OLS\n",
    "\n",
    "y = df['Banks'].dropna()\n",
    "x = df['Insurance'].dropna()\n",
    "n = min(len(y), len(x))\n",
    "y = y.iloc[:n]\n",
    "x = x.iloc[:n]"
   ]
  },
  {
   "cell_type": "code",
   "execution_count": 39,
   "id": "71cc34d1-8d8f-4adb-8ca7-0d12d06b6b72",
   "metadata": {},
   "outputs": [],
   "source": [
    "# Johansen 공적분 벡터 추정\n",
    "coint_result = coint_johansen(df[['Banks', 'Insurance']], det_order=0, k_ar_diff=1)\n",
    "beta = coint_result.evec[:, 0]  # 첫 번째 공적분 벡터"
   ]
  },
  {
   "cell_type": "code",
   "execution_count": 40,
   "id": "490f0ed8-58d7-46a7-b9b6-fcd34bc360b3",
   "metadata": {},
   "outputs": [],
   "source": [
    "# 공적분 오차항 계산\n",
    "ec = beta[0] * y + beta[1] * x\n",
    "\n",
    "# Threshold = 중앙값\n",
    "tau = np.median(ec)\n",
    "regime_1 = ec <= tau\n",
    "regime_2 = ec > tau\n",
    "\n",
    "# y 차분\n",
    "dy = y.diff().dropna()\n",
    "ec_lag = ec.shift(1).dropna()\n",
    "dy = dy[ec_lag.index]\n",
    "regime_1 = regime_1[ec_lag.index]\n",
    "regime_2 = regime_2[ec_lag.index]"
   ]
  },
  {
   "cell_type": "code",
   "execution_count": 41,
   "id": "9da34eb9-6308-419a-a158-01a3194a0107",
   "metadata": {},
   "outputs": [
    {
     "name": "stderr",
     "output_type": "stream",
     "text": [
      "C:\\Users\\kunwo\\AppData\\Local\\Temp\\ipykernel_2116\\893522223.py:12: FutureWarning: Series.__getitem__ treating keys as positions is deprecated. In a future version, integer keys will always be treated as labels (consistent with DataFrame behavior). To access a value by position, use `ser.iloc[pos]`\n",
      "  \"Regime 1 (EC ≤ tau) α1\": model1.params[0],\n",
      "C:\\Users\\kunwo\\AppData\\Local\\Temp\\ipykernel_2116\\893522223.py:13: FutureWarning: Series.__getitem__ treating keys as positions is deprecated. In a future version, integer keys will always be treated as labels (consistent with DataFrame behavior). To access a value by position, use `ser.iloc[pos]`\n",
      "  \"Regime 1 p-value\": model1.pvalues[0],\n",
      "C:\\Users\\kunwo\\AppData\\Local\\Temp\\ipykernel_2116\\893522223.py:14: FutureWarning: Series.__getitem__ treating keys as positions is deprecated. In a future version, integer keys will always be treated as labels (consistent with DataFrame behavior). To access a value by position, use `ser.iloc[pos]`\n",
      "  \"Regime 2 (EC > tau) α2\": model2.params[0],\n",
      "C:\\Users\\kunwo\\AppData\\Local\\Temp\\ipykernel_2116\\893522223.py:15: FutureWarning: Series.__getitem__ treating keys as positions is deprecated. In a future version, integer keys will always be treated as labels (consistent with DataFrame behavior). To access a value by position, use `ser.iloc[pos]`\n",
      "  \"Regime 2 p-value\": model2.pvalues[0]\n"
     ]
    },
    {
     "data": {
      "text/plain": [
       "{'Threshold (tau)': 22.270886458615248,\n",
       " 'Regime 1 (EC ≤ tau) α1': -2.0956863784606004e-05,\n",
       " 'Regime 1 p-value': 0.2285163365246706,\n",
       " 'Regime 2 (EC > tau) α2': 3.208434743817557e-05,\n",
       " 'Regime 2 p-value': 0.020965157163315117}"
      ]
     },
     "execution_count": 41,
     "metadata": {},
     "output_type": "execute_result"
    }
   ],
   "source": [
    "# 레짐별 회귀\n",
    "X1 = ec_lag[regime_1].values.reshape(-1, 1)\n",
    "X2 = ec_lag[regime_2].values.reshape(-1, 1)\n",
    "y1 = dy[regime_1]\n",
    "y2 = dy[regime_2]\n",
    "\n",
    "model1 = OLS(y1, X1).fit()\n",
    "model2 = OLS(y2, X2).fit()\n",
    "\n",
    "{\n",
    "    \"Threshold (tau)\": tau,\n",
    "    \"Regime 1 (EC ≤ tau) α1\": model1.params[0],\n",
    "    \"Regime 1 p-value\": model1.pvalues[0],\n",
    "    \"Regime 2 (EC > tau) α2\": model2.params[0],\n",
    "    \"Regime 2 p-value\": model2.pvalues[0]\n",
    "}"
   ]
  },
  {
   "cell_type": "code",
   "execution_count": null,
   "id": "fbbd4fd5-4bb2-4aaa-ae48-5574c6a8ed69",
   "metadata": {},
   "outputs": [],
   "source": []
  }
 ],
 "metadata": {
  "kernelspec": {
   "display_name": "Python3",
   "language": "python",
   "name": "myenv"
  },
  "language_info": {
   "codemirror_mode": {
    "name": "ipython",
    "version": 3
   },
   "file_extension": ".py",
   "mimetype": "text/x-python",
   "name": "python",
   "nbconvert_exporter": "python",
   "pygments_lexer": "ipython3",
   "version": "3.12.7"
  }
 },
 "nbformat": 4,
 "nbformat_minor": 5
}
